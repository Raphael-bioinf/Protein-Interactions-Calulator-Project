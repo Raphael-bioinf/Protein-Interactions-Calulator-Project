{
 "cells": [
  {
   "cell_type": "code",
   "execution_count": 13,
   "metadata": {},
   "outputs": [
    {
     "name": "stdout",
     "output_type": "stream",
     "text": [
      "             X          Y          Z\n",
      "0     [23.747]   [26.171]    [21.58]\n",
      "1     [23.791]    [25.75]   [20.179]\n",
      "2     [22.444]   [26.003]   [19.506]\n",
      "3     [21.407]   [25.585]   [20.014]\n",
      "4     [24.159]   [24.263]   [20.089]\n",
      "...        ...        ...        ...\n",
      "4093  [25.505]   [-8.486]  [-32.223]\n",
      "4094  [33.697]   [-10.21]  [-24.907]\n",
      "4095  [34.909]  [-10.837]   [-7.447]\n",
      "4096  [32.506]   [-7.265]    [-5.52]\n",
      "4097  [35.744]   [-8.359]    [2.255]\n",
      "\n",
      "[4098 rows x 3 columns]\n"
     ]
    },
    {
     "name": "stderr",
     "output_type": "stream",
     "text": [
      "C:\\Users\\bodin\\anaconda3\\lib\\site-packages\\Bio\\PDB\\StructureBuilder.py:89: PDBConstructionWarning: WARNING: Chain A is discontinuous at line 4122.\n",
      "  warnings.warn(\n",
      "C:\\Users\\bodin\\anaconda3\\lib\\site-packages\\Bio\\PDB\\StructureBuilder.py:89: PDBConstructionWarning: WARNING: Chain B is discontinuous at line 4179.\n",
      "  warnings.warn(\n",
      "C:\\Users\\bodin\\anaconda3\\lib\\site-packages\\Bio\\PDB\\StructureBuilder.py:89: PDBConstructionWarning: WARNING: Chain A is discontinuous at line 4225.\n",
      "  warnings.warn(\n",
      "C:\\Users\\bodin\\anaconda3\\lib\\site-packages\\Bio\\PDB\\StructureBuilder.py:89: PDBConstructionWarning: WARNING: Chain B is discontinuous at line 4464.\n",
      "  warnings.warn(\n"
     ]
    }
   ],
   "source": [
    "import pandas as pd\n",
    "import numpy as np\n",
    "import scipy as sp\n",
    "\n",
    "prot_id = \"5AGY.pdb\"\n",
    "prot_file = \"5AGY.pdb\"\n",
    "\n",
    "from Bio.PDB import PDBParser\n",
    "parser=PDBParser(PERMISSIVE=1)\n",
    "structure=parser.get_structure(prot_id, prot_file)\n",
    "for model in structure.get_list():\n",
    "    for chain in model.get_list():\n",
    "        for residue in chain.get_list():\n",
    "            if residue.has_id(\"CA\"):\n",
    "                ca_atom=residue[\"CA\"]\n",
    "\n",
    "arr_x = [];\n",
    "\n",
    "for chains in structure:\n",
    "    for chain in chains:\n",
    "        for residue in chain:                             \n",
    "            for atom in residue:\n",
    "                x = atom.get_coord()\n",
    "                arr_x.append({'X': [x[0]],'Y':[x[1]],'Z':[x[2]]})\n",
    "\n",
    "sample = pd.DataFrame(arr_x)\n",
    "print(sample)\n",
    " "
   ]
  },
  {
   "cell_type": "code",
   "execution_count": null,
   "metadata": {},
   "outputs": [],
   "source": []
  }
 ],
 "metadata": {
  "kernelspec": {
   "display_name": "Python 3",
   "language": "python",
   "name": "python3"
  },
  "language_info": {
   "codemirror_mode": {
    "name": "ipython",
    "version": 3
   },
   "file_extension": ".py",
   "mimetype": "text/x-python",
   "name": "python",
   "nbconvert_exporter": "python",
   "pygments_lexer": "ipython3",
   "version": "3.8.3"
  }
 },
 "nbformat": 4,
 "nbformat_minor": 4
}
